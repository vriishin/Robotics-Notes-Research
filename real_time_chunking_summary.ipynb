{
 "cells": [
  {
   "cell_type": "markdown",
   "id": "e127b561",
   "metadata": {},
   "source": [
    "# Real-Time Execution of Action Chunking Flow Policies (RTC)\n",
    "\n",
    "**Reference:** Black et al., real_time_chunking.pdf\n",
    "\n",
    "---"
   ]
  },
  {
   "cell_type": "markdown",
   "id": "aac92dce",
   "metadata": {},
   "source": [
    "## Abstract\n",
    "\n",
    "RTC is an inference-time algorithm enabling asynchronous, smooth execution of chunked actions under latency. It treats chunk transitions as an inpainting problem, freezing executed actions and inpainting the rest, without retraining."
   ]
  },
  {
   "cell_type": "markdown",
   "id": "715ccdbd",
   "metadata": {},
   "source": [
    "## Key Contributions\n",
    "\n",
    "- Introduced RTC: inpainting-based asynchronous execution for diffusion/flow VLAs.\n",
    "- New dynamic benchmark (Kinetix) and real-world bimanual tasks (e.g., match lighting).\n",
    "- Demonstrated reduced latency artifacts, smoother motions, and up to 20% faster task completion."
   ]
  },
  {
   "cell_type": "markdown",
   "id": "d46f42b7",
   "metadata": {},
   "source": [
    "## Methodology\n",
    "\n",
    "1. **Inference Delay Handling:** Compute `d = floor(latency / controller_period)`.\n",
    "2. **Freeze & Inpaint:** When new chunk arrives, freeze guaranteed actions, guide inpainting for the rest.\n",
    "3. **Guidance & Masking:** Apply soft masks and clipping to ensure valid actions.\n"
   ]
  },
  {
   "cell_type": "markdown",
   "id": "6014b4c2",
   "metadata": {},
   "source": [
    "## Experiments & Results\n",
    "\n",
    "- **Simulation:** 12 dynamic Kinetix tasks, RTC outperforms synchronous and temporal ensembling.\n",
    "- **Real World:** 6 bimanual manipulation tasks with π0.5 base policy, high precision under 300ms delays."
   ]
  },
  {
   "cell_type": "markdown",
   "id": "d5b1955f",
   "metadata": {},
   "source": [
    "## Connections to Other Papers\n",
    "\n",
    "- **π0.5:** RTC uses π0.5 as the base VLA.  \n",
    "- **Knowledge Insulation:** Ensures robust backbone features under inference.  \n",
    "- **FAST:** FAST tokens inform chunking strategies.\n",
    "\n",
    "**Key Related Works:**\n",
    "- Asynchronous planning methods [50]\n",
    "- Inpainting for diffusion models [47]\n",
    "- Action chunking VLAs [67]"
   ]
  }
 ],
 "metadata": {
  "language_info": {
   "name": "python"
  }
 },
 "nbformat": 4,
 "nbformat_minor": 5
}
