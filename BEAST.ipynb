{
 "cells": [
  {
   "cell_type": "markdown",
   "id": "dc03508f",
   "metadata": {},
   "source": [
    "# BEAST: B-Spline Encoded Action Sequence Tokenizer\n",
    "\n",
    "**Reference:** Zhou et al., 2506.06072v2, Jun 10 2025\n",
    "\n",
    "---"
   ]
  },
  {
   "cell_type": "markdown",
   "id": "cfc0a77c",
   "metadata": {},
   "source": [
    "BEAST is a new way to compress a series of actions into a smaller number of tokens for a robot. The tokenization based approach has seen positive feedback based on its efficacy in NLP, however applying it to robotics has not been straightforward. \n",
    "\n",
    "> Different from tokenizers based on the vector quantization [13 – 15], it does not require additional tokenizer training.\n",
    "BEAST compresses action trajectories into fixed-length token sequences enabling efficient parallel\n",
    "decoding for faster token generation, requiring 4 − 8× fewer tokens than binning-based tokenization\n",
    "\n",
    "Downsides from previous methods for encoding (like vector quantization or binning):  \n",
    "1. Need to train separate encoder-decoder networks (adds complexity).\n",
    "2. Different length token sequences, even for actions of the same length - causes issues in decoding quickly.\n",
    "3. Gaps between chunks - not smooth, flowing actions.\n",
    "        \n",
    "A previous method, FAST, encoded actions using DCT and byte pair encoding, which produced varied length sequences. This was seen as an issue because this makes parallel decoding more difficult. \n",
    "\n",
    "BEAST has shown itself to be more computationally efficient as well as requiring less training than previous models.\n"
   ]
  },
  {
   "cell_type": "markdown",
   "id": "edb83511",
   "metadata": {},
   "source": [
    "## Methodology\n",
    "\n",
    "BEAST is built on B-Splines which, generally, are a way of creating curves on a graph using a few key points."
   ]
  }
 ],
 "metadata": {
  "kernelspec": {
   "display_name": "base",
   "language": "python",
   "name": "python3"
  },
  "language_info": {
   "codemirror_mode": {
    "name": "ipython",
    "version": 3
   },
   "file_extension": ".py",
   "mimetype": "text/x-python",
   "name": "python",
   "nbconvert_exporter": "python",
   "pygments_lexer": "ipython3",
   "version": "3.11.5"
  }
 },
 "nbformat": 4,
 "nbformat_minor": 5
}
